{
 "cells": [
  {
   "cell_type": "code",
   "execution_count": 1,
   "metadata": {
    "collapsed": true,
    "pycharm": {
     "name": "#%% Advent of code day 1\n"
    }
   },
   "outputs": [],
   "source": [
    "import pandas as pd\n",
    "import numpy as np"
   ]
  },
  {
   "cell_type": "code",
   "execution_count": 25,
   "outputs": [
    {
     "name": "stdout",
     "output_type": "stream",
     "text": [
      "   Depths\n",
      "0     173\n",
      "1     179\n",
      "2     200\n",
      "3     210\n",
      "4     226\n"
     ]
    }
   ],
   "source": [
    "depths = pd.read_csv('1_seabed_depths.csv')\n",
    "print(depths.head())\n"
   ],
   "metadata": {
    "collapsed": false,
    "pycharm": {
     "name": "#%% Read in data\n"
    }
   }
  },
  {
   "cell_type": "code",
   "execution_count": 3,
   "outputs": [
    {
     "name": "stdout",
     "output_type": "stream",
     "text": [
      "         Depths  previous_depth\n",
      "comp                           \n",
      "bigger     1681            1681\n",
      "smaller     319             318\n"
     ]
    }
   ],
   "source": [
    "depths['previous_depth'] = depths.Depths.shift(1) ## add column of previous depth\n",
    "depths['comp'] = np.where(depths['Depths'] > depths['previous_depth'], 'bigger', 'smaller') ##make comparison\n",
    "print(depths.groupby(['comp']).count()) ##count how many\n"
   ],
   "metadata": {
    "collapsed": false,
    "pycharm": {
     "name": "#%% How many depths are bigger than the previous depth?\n"
    }
   }
  },
  {
   "cell_type": "code",
   "execution_count": 26,
   "outputs": [
    {
     "name": "stdout",
     "output_type": "stream",
     "text": [
      "   Depths  depth_2  depth_3  total\n",
      "0     173    179.0    200.0  552.0\n",
      "1     179    200.0    210.0  589.0\n",
      "2     200    210.0    226.0  636.0\n",
      "3     210    226.0    229.0  665.0\n",
      "4     226    229.0    220.0  675.0\n",
      "         Depths  depth_2  depth_3  total\n",
      "comp                                    \n",
      "bigger     1704     1704     1704   1704\n",
      "smaller     296      295      294    296\n"
     ]
    }
   ],
   "source": [
    "#create the three measurement running value\n",
    "depths['depth_2'] = depths.Depths.shift(-1)\n",
    "depths['depth_3'] = depths.Depths.shift(-2)\n",
    "depths['total']= depths.sum(axis=1)\n",
    "print(depths.head())\n",
    "#compare total to previous total\n",
    "\n",
    "depths['comp']=np.where(depths['total']>  depths.total.shift(1), \"bigger\", \"smaller\")\n",
    "print(depths.groupby(['comp']).count())"
   ],
   "metadata": {
    "collapsed": false,
    "pycharm": {
     "name": "#%% Use running three depth total, is the value bigger than next\n"
    }
   }
  },
  {
   "cell_type": "code",
   "execution_count": null,
   "outputs": [],
   "source": [],
   "metadata": {
    "collapsed": false,
    "pycharm": {
     "name": "#%%\n"
    }
   }
  }
 ],
 "metadata": {
  "kernelspec": {
   "display_name": "Python 3",
   "language": "python",
   "name": "python3"
  },
  "language_info": {
   "codemirror_mode": {
    "name": "ipython",
    "version": 2
   },
   "file_extension": ".py",
   "mimetype": "text/x-python",
   "name": "python",
   "nbconvert_exporter": "python",
   "pygments_lexer": "ipython2",
   "version": "2.7.6"
  }
 },
 "nbformat": 4,
 "nbformat_minor": 0
}