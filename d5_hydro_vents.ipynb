{
 "cells": [
  {
   "cell_type": "code",
   "execution_count": 1,
   "metadata": {
    "collapsed": true,
    "pycharm": {
     "name": "#%%# d5 TASK find the points where two or more vents overlap\n"
    }
   },
   "outputs": [],
   "source": [
    "import pandas as pd\n",
    "import numpy as np"
   ]
  },
  {
   "cell_type": "code",
   "execution_count": 20,
   "outputs": [],
   "source": [
    "lines = pd.read_csv(\"d5_hydro_vents.csv\")\n",
    "\n",
    "# # ### test_data\n",
    "# lines = pd.DataFrame({'lines':  ['0,9 -> 5,9',\n",
    "#                                  '8,0 -> 0,8',\n",
    "#                                  '9,4 -> 3,4',\n",
    "#                                  '2,2 -> 2,1',\n",
    "#                                  '7,0 -> 7,4',\n",
    "#                                  '6,4 -> 2,0',\n",
    "#                                  '0,9 -> 2,9',\n",
    "#                                  '3,4 -> 1,4',\n",
    "#                                  '0,0 -> 8,8',\n",
    "#                                  '5,5 -> 8,2']},\n",
    "#                      columns = ['lines'])\n",
    "\n"
   ],
   "metadata": {
    "collapsed": false,
    "pycharm": {
     "name": "#%%\n"
    }
   }
  },
  {
   "cell_type": "code",
   "execution_count": 21,
   "outputs": [
    {
     "name": "stdout",
     "output_type": "stream",
     "text": [
      "164\n"
     ]
    }
   ],
   "source": [
    "lines[['start', 'end']] = lines['lines'].str.split(' -> ', 2, expand=True)\n",
    "lines = lines.drop('lines', axis = 1)\n",
    "lines[['start_x', 'start_y']] = lines['start'].str.split(',', 2, expand=True)\n",
    "lines[['end_x', 'end_y']] = lines['end'].str.split(',', 2, expand=True)\n",
    "lines = lines.drop(['start','end'], axis = 1)\n",
    "print(lines.iloc[1,1])\n"
   ],
   "metadata": {
    "collapsed": false,
    "pycharm": {
     "name": "#%% split the coordinates into start/end positions\n"
    }
   }
  },
  {
   "cell_type": "code",
   "execution_count": 22,
   "outputs": [
    {
     "name": "stdout",
     "output_type": "stream",
     "text": [
      "     0    1    2    3    4    5    6    7    8    9    ...  981  982  983  \\\n",
      "0    0.0  0.0  0.0  0.0  0.0  0.0  0.0  0.0  0.0  0.0  ...  0.0  0.0  0.0   \n",
      "1    0.0  0.0  0.0  0.0  0.0  0.0  0.0  0.0  0.0  0.0  ...  0.0  0.0  0.0   \n",
      "2    0.0  0.0  0.0  0.0  0.0  0.0  0.0  0.0  0.0  0.0  ...  0.0  0.0  0.0   \n",
      "3    0.0  0.0  0.0  0.0  0.0  0.0  0.0  0.0  0.0  0.0  ...  0.0  0.0  0.0   \n",
      "4    0.0  0.0  0.0  0.0  0.0  0.0  0.0  0.0  0.0  0.0  ...  0.0  0.0  0.0   \n",
      "..   ...  ...  ...  ...  ...  ...  ...  ...  ...  ...  ...  ...  ...  ...   \n",
      "986  0.0  0.0  0.0  0.0  0.0  0.0  0.0  0.0  0.0  0.0  ...  0.0  0.0  0.0   \n",
      "987  0.0  0.0  0.0  0.0  0.0  0.0  0.0  0.0  0.0  0.0  ...  0.0  0.0  0.0   \n",
      "988  0.0  0.0  0.0  0.0  0.0  0.0  0.0  0.0  0.0  0.0  ...  0.0  0.0  0.0   \n",
      "989  0.0  0.0  0.0  0.0  0.0  0.0  0.0  0.0  0.0  0.0  ...  0.0  0.0  0.0   \n",
      "990  0.0  0.0  0.0  0.0  0.0  0.0  0.0  0.0  0.0  0.0  ...  0.0  0.0  0.0   \n",
      "\n",
      "     984  985  986  987  988  989  990  \n",
      "0    0.0  0.0  0.0  0.0  0.0  0.0  0.0  \n",
      "1    0.0  0.0  0.0  0.0  0.0  0.0  0.0  \n",
      "2    0.0  0.0  0.0  0.0  0.0  0.0  0.0  \n",
      "3    0.0  0.0  0.0  0.0  0.0  0.0  0.0  \n",
      "4    0.0  0.0  0.0  0.0  0.0  0.0  0.0  \n",
      "..   ...  ...  ...  ...  ...  ...  ...  \n",
      "986  0.0  0.0  0.0  0.0  0.0  0.0  0.0  \n",
      "987  0.0  0.0  0.0  0.0  0.0  0.0  0.0  \n",
      "988  0.0  0.0  0.0  0.0  0.0  0.0  0.0  \n",
      "989  0.0  0.0  0.0  0.0  0.0  0.0  0.0  \n",
      "990  0.0  0.0  0.0  0.0  0.0  0.0  0.0  \n",
      "\n",
      "[991 rows x 991 columns]\n"
     ]
    }
   ],
   "source": [
    "grid_size = int(lines.max().max())+1\n",
    "grid=pd.DataFrame(np.zeros([grid_size,grid_size]))\n",
    "print(grid)"
   ],
   "metadata": {
    "collapsed": false,
    "pycharm": {
     "name": "#%% Make the grid of locations\n"
    }
   }
  },
  {
   "cell_type": "code",
   "execution_count": 23,
   "outputs": [],
   "source": [
    "# lines_h_v =lines[(lines['start_x']==lines['end_x']) | (lines['start_y']==lines['end_y'])]\n",
    "# print(lines_h_v)\n",
    "# print(lines_h_v.iloc[1,1])\n",
    "\n",
    "\n"
   ],
   "metadata": {
    "collapsed": false,
    "pycharm": {
     "name": "#%% get just the horizontal and vertical lines (for part 1)\n"
    }
   }
  },
  {
   "cell_type": "code",
   "execution_count": 24,
   "outputs": [],
   "source": [
    "def add_one_to_length(start, end):\n",
    "    if end > start:\n",
    "        end += 1\n",
    "    else:\n",
    "        end += -1\n",
    "    return end\n",
    "\n",
    "def get_line_coords(line):\n",
    "    ## find all the positions to be changed\n",
    "    x_end = int(lines['end_x'].iloc[line])\n",
    "    x_start = int(lines['start_x'].iloc[line])\n",
    "    y_end = int(lines['end_y'].iloc[line])\n",
    "    y_start = int(lines['start_y'].iloc[line])\n",
    "\n",
    "    x_end = add_one_to_length(x_start, x_end)\n",
    "    y_end = add_one_to_length(y_start, y_end)\n",
    "\n",
    "    x_pos = list(range(x_start,x_end, 1 if x_end > x_start else -1 ))\n",
    "    y_pos = list(range(y_start,y_end, 1 if y_end > y_start else -1))\n",
    "    return x_pos, y_pos\n"
   ],
   "metadata": {
    "collapsed": false,
    "pycharm": {
     "name": "#%% define functions\n"
    }
   }
  },
  {
   "cell_type": "code",
   "execution_count": 25,
   "outputs": [],
   "source": [
    "for line in range(len(lines)):\n",
    "    vals = get_line_coords(line)\n",
    "    x_pos = vals[0]\n",
    "    y_pos = vals[1]\n",
    "\n",
    "    ##change the grid\n",
    "    ## if both x and y are at least two elements long (diagonal line)\n",
    "    if len(x_pos)>=2 and len(y_pos)>=2:\n",
    "        for pos in range(len(x_pos)):\n",
    "            grid.iloc[y_pos[pos],x_pos[pos]] = grid.iloc[y_pos[pos],x_pos[pos]]+1\n",
    "\n",
    "    else: ## else it's horizontal or vertical\n",
    "        for j in y_pos:\n",
    "            for i in x_pos:\n",
    "                grid.iloc[j,i] = grid.iloc[j,i]+1\n",
    "\n",
    "\n"
   ],
   "metadata": {
    "collapsed": false,
    "pycharm": {
     "name": "#%% mark the values in the grid covered by the hydo vents\n"
    }
   }
  },
  {
   "cell_type": "code",
   "execution_count": 26,
   "outputs": [
    {
     "data": {
      "text/plain": "20012"
     },
     "execution_count": 26,
     "metadata": {},
     "output_type": "execute_result"
    }
   ],
   "source": [
    "(grid.values >= 2).sum()\n",
    "\n"
   ],
   "metadata": {
    "collapsed": false,
    "pycharm": {
     "name": "#%% get final answer\n"
    }
   }
  },
  {
   "cell_type": "code",
   "execution_count": null,
   "outputs": [],
   "source": [],
   "metadata": {
    "collapsed": false,
    "pycharm": {
     "name": "#%%\n"
    }
   }
  }
 ],
 "metadata": {
  "kernelspec": {
   "display_name": "Python 3",
   "language": "python",
   "name": "python3"
  },
  "language_info": {
   "codemirror_mode": {
    "name": "ipython",
    "version": 2
   },
   "file_extension": ".py",
   "mimetype": "text/x-python",
   "name": "python",
   "nbconvert_exporter": "python",
   "pygments_lexer": "ipython2",
   "version": "2.7.6"
  }
 },
 "nbformat": 4,
 "nbformat_minor": 0
}