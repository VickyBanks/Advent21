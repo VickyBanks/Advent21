{
 "cells": [
  {
   "cell_type": "code",
   "execution_count": null,
   "metadata": {
    "collapsed": true
   },
   "outputs": [],
   "source": []
  },
  {
   "cell_type": "code",
   "execution_count": 176,
   "outputs": [],
   "source": [
    "import pandas as pd\n",
    "import numpy as np"
   ],
   "metadata": {
    "collapsed": false,
    "pycharm": {
     "name": "#%%# d5 TASK find the points where two or more vents overlap\n"
    }
   }
  },
  {
   "cell_type": "code",
   "execution_count": 177,
   "outputs": [
    {
     "data": {
      "text/plain": "       num_fish\nday_0          \n1           145\n2            39\n3            53\n4            33\n5            30",
      "text/html": "<div>\n<style scoped>\n    .dataframe tbody tr th:only-of-type {\n        vertical-align: middle;\n    }\n\n    .dataframe tbody tr th {\n        vertical-align: top;\n    }\n\n    .dataframe thead th {\n        text-align: right;\n    }\n</style>\n<table border=\"1\" class=\"dataframe\">\n  <thead>\n    <tr style=\"text-align: right;\">\n      <th></th>\n      <th>num_fish</th>\n    </tr>\n    <tr>\n      <th>day_0</th>\n      <th></th>\n    </tr>\n  </thead>\n  <tbody>\n    <tr>\n      <th>1</th>\n      <td>145</td>\n    </tr>\n    <tr>\n      <th>2</th>\n      <td>39</td>\n    </tr>\n    <tr>\n      <th>3</th>\n      <td>53</td>\n    </tr>\n    <tr>\n      <th>4</th>\n      <td>33</td>\n    </tr>\n    <tr>\n      <th>5</th>\n      <td>30</td>\n    </tr>\n  </tbody>\n</table>\n</div>"
     },
     "execution_count": 177,
     "metadata": {},
     "output_type": "execute_result"
    }
   ],
   "source": [
    "initial_fish = pd.read_csv(\"d6_lantern_fish.csv\")\n",
    "\n",
    "# # ### test_data\n",
    "# initial_fish = pd.DataFrame({'day_0': [3, 4, 3, 1, 2]},\n",
    "#                             columns=['day_0'])\n",
    "\n",
    "initial_fish['num_fish'] = np.zeros(len(initial_fish))\n",
    "initial_fish = initial_fish.groupby(['day_0']).count()\n",
    "initial_fish.head()"
   ],
   "metadata": {
    "collapsed": false,
    "pycharm": {
     "name": "#%% Get data and find number of fish with each status\n"
    }
   }
  },
  {
   "cell_type": "code",
   "execution_count": 178,
   "outputs": [],
   "source": [
    "fish_status_df = pd.DataFrame({'status': [0, 1, 2, 3, 4, 5, 6, 7, 8]},\n",
    "                              columns=['status'])"
   ],
   "metadata": {
    "collapsed": false,
    "pycharm": {
     "name": "#%% Set the possible status options as a df\n"
    }
   }
  },
  {
   "cell_type": "code",
   "execution_count": 181,
   "outputs": [
    {
     "data": {
      "text/plain": "   status  num_fish\n0       0       0.0\n1       1     145.0\n2       2      39.0\n3       3      53.0\n4       4      33.0\n5       5      30.0\n6       6       0.0\n7       7       0.0\n8       8       0.0",
      "text/html": "<div>\n<style scoped>\n    .dataframe tbody tr th:only-of-type {\n        vertical-align: middle;\n    }\n\n    .dataframe tbody tr th {\n        vertical-align: top;\n    }\n\n    .dataframe thead th {\n        text-align: right;\n    }\n</style>\n<table border=\"1\" class=\"dataframe\">\n  <thead>\n    <tr style=\"text-align: right;\">\n      <th></th>\n      <th>status</th>\n      <th>num_fish</th>\n    </tr>\n  </thead>\n  <tbody>\n    <tr>\n      <th>0</th>\n      <td>0</td>\n      <td>0.0</td>\n    </tr>\n    <tr>\n      <th>1</th>\n      <td>1</td>\n      <td>145.0</td>\n    </tr>\n    <tr>\n      <th>2</th>\n      <td>2</td>\n      <td>39.0</td>\n    </tr>\n    <tr>\n      <th>3</th>\n      <td>3</td>\n      <td>53.0</td>\n    </tr>\n    <tr>\n      <th>4</th>\n      <td>4</td>\n      <td>33.0</td>\n    </tr>\n    <tr>\n      <th>5</th>\n      <td>5</td>\n      <td>30.0</td>\n    </tr>\n    <tr>\n      <th>6</th>\n      <td>6</td>\n      <td>0.0</td>\n    </tr>\n    <tr>\n      <th>7</th>\n      <td>7</td>\n      <td>0.0</td>\n    </tr>\n    <tr>\n      <th>8</th>\n      <td>8</td>\n      <td>0.0</td>\n    </tr>\n  </tbody>\n</table>\n</div>"
     },
     "execution_count": 181,
     "metadata": {},
     "output_type": "execute_result"
    }
   ],
   "source": [
    "initial_fish_status = pd.merge(fish_status_df,\n",
    "                               initial_fish,\n",
    "                               left_on='status',\n",
    "                               right_on='day_0',\n",
    "                               how='left')\n",
    "initial_fish_status['num_fish'] = initial_fish_status['num_fish'].fillna(0)\n",
    "initial_fish_status"
   ],
   "metadata": {
    "collapsed": false,
    "pycharm": {
     "name": "#%% Join to get starting status situaion\n"
    }
   }
  },
  {
   "cell_type": "code",
   "execution_count": 186,
   "outputs": [],
   "source": [
    "current_day = initial_fish_status\n"
   ],
   "metadata": {
    "collapsed": false,
    "pycharm": {
     "name": "#%%\n"
    }
   }
  },
  {
   "cell_type": "code",
   "execution_count": 187,
   "outputs": [],
   "source": [
    "def num_fish_next_day(df):\n",
    "    new_df = df.copy()\n",
    "    new_df.iloc[8,1] = df.iloc[0,1] ## 8 is the previous day's 1\n",
    "    new_df.iloc[6,1] = df.iloc[0,1] + df.iloc[7,1] # previous day's status 0 and 7\n",
    "    ## the previous days one less status\n",
    "    new_df.iloc[7,1] = df.iloc[8,1]\n",
    "    new_df.iloc[5,1] = df.iloc[6,1]\n",
    "    new_df.iloc[4,1] = df.iloc[5,1]\n",
    "    new_df.iloc[3,1] = df.iloc[4,1]\n",
    "    new_df.iloc[2,1] = df.iloc[3,1]\n",
    "    new_df.iloc[1,1] = df.iloc[2,1]\n",
    "    new_df.iloc[0,1] = df.iloc[1,1]\n",
    "    return new_df\n"
   ],
   "metadata": {
    "collapsed": false,
    "pycharm": {
     "name": "#%% Function to change value\n"
    }
   }
  },
  {
   "cell_type": "code",
   "execution_count": 188,
   "outputs": [],
   "source": [
    "for i in range(256):\n",
    "    current_day = num_fish_next_day(current_day)"
   ],
   "metadata": {
    "collapsed": false,
    "pycharm": {
     "name": "#%% Repeat for all of the days required\n"
    }
   }
  },
  {
   "cell_type": "code",
   "execution_count": 185,
   "outputs": [
    {
     "data": {
      "text/plain": "   status      num_fish\n0       0  1.430941e+11\n1       1  1.735968e+11\n2       2  1.789484e+11\n3       3  1.956634e+11\n4       4  2.248073e+11\n5       5  2.221913e+11\n6       6  2.751793e+11\n7       7  1.187881e+11\n8       8  1.503080e+11",
      "text/html": "<div>\n<style scoped>\n    .dataframe tbody tr th:only-of-type {\n        vertical-align: middle;\n    }\n\n    .dataframe tbody tr th {\n        vertical-align: top;\n    }\n\n    .dataframe thead th {\n        text-align: right;\n    }\n</style>\n<table border=\"1\" class=\"dataframe\">\n  <thead>\n    <tr style=\"text-align: right;\">\n      <th></th>\n      <th>status</th>\n      <th>num_fish</th>\n    </tr>\n  </thead>\n  <tbody>\n    <tr>\n      <th>0</th>\n      <td>0</td>\n      <td>1.430941e+11</td>\n    </tr>\n    <tr>\n      <th>1</th>\n      <td>1</td>\n      <td>1.735968e+11</td>\n    </tr>\n    <tr>\n      <th>2</th>\n      <td>2</td>\n      <td>1.789484e+11</td>\n    </tr>\n    <tr>\n      <th>3</th>\n      <td>3</td>\n      <td>1.956634e+11</td>\n    </tr>\n    <tr>\n      <th>4</th>\n      <td>4</td>\n      <td>2.248073e+11</td>\n    </tr>\n    <tr>\n      <th>5</th>\n      <td>5</td>\n      <td>2.221913e+11</td>\n    </tr>\n    <tr>\n      <th>6</th>\n      <td>6</td>\n      <td>2.751793e+11</td>\n    </tr>\n    <tr>\n      <th>7</th>\n      <td>7</td>\n      <td>1.187881e+11</td>\n    </tr>\n    <tr>\n      <th>8</th>\n      <td>8</td>\n      <td>1.503080e+11</td>\n    </tr>\n  </tbody>\n</table>\n</div>"
     },
     "execution_count": 185,
     "metadata": {},
     "output_type": "execute_result"
    }
   ],
   "source": [
    "current_day"
   ],
   "metadata": {
    "collapsed": false,
    "pycharm": {
     "name": "#%% have a look\n"
    }
   }
  },
  {
   "cell_type": "code",
   "execution_count": 189,
   "outputs": [
    {
     "data": {
      "text/plain": "1682576647495.0"
     },
     "execution_count": 189,
     "metadata": {},
     "output_type": "execute_result"
    }
   ],
   "source": [
    "current_day['num_fish'].values.sum()"
   ],
   "metadata": {
    "collapsed": false,
    "pycharm": {
     "name": "#%% sum all the fish\n"
    }
   }
  },
  {
   "cell_type": "code",
   "execution_count": null,
   "outputs": [],
   "source": [],
   "metadata": {
    "collapsed": false,
    "pycharm": {
     "name": "#%%\n"
    }
   }
  }
 ],
 "metadata": {
  "kernelspec": {
   "display_name": "Python 3",
   "language": "python",
   "name": "python3"
  },
  "language_info": {
   "codemirror_mode": {
    "name": "ipython",
    "version": 2
   },
   "file_extension": ".py",
   "mimetype": "text/x-python",
   "name": "python",
   "nbconvert_exporter": "python",
   "pygments_lexer": "ipython2",
   "version": "2.7.6"
  }
 },
 "nbformat": 4,
 "nbformat_minor": 0
}