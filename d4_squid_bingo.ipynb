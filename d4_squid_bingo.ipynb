{
 "cells": [
  {
   "cell_type": "code",
   "execution_count": 1,
   "metadata": {
    "collapsed": true,
    "pycharm": {
     "name": "#%% You're playing bingo with a giant squid.\n"
    }
   },
   "outputs": [],
   "source": [
    "import pandas as pd\n",
    "import numpy as np\n",
    "\n"
   ]
  },
  {
   "cell_type": "code",
   "execution_count": 185,
   "outputs": [
    {
     "name": "stdout",
     "output_type": "stream",
     "text": [
      "0    17\n",
      "1    11\n",
      "2    37\n",
      "3     7\n",
      "4    89\n",
      "Name: num_called, dtype: int64\n",
      "       bingo_card\n",
      "0  57 80 91 40 12\n",
      "1  62 36 72  0 20\n",
      "2  55 60 25 92 96\n",
      "3  14  2 17 18 86\n",
      "4   1  4 90 66 38\n"
     ]
    }
   ],
   "source": [
    "num_called = pd.read_csv('d4_squid_bingo_num_called.csv').squeeze()\n",
    "bingo_cards = pd.read_csv(\"d4_squid_bingo_cards.csv\")\n",
    "\n",
    "print(num_called.head())\n",
    "print(bingo_cards.head())\n"
   ],
   "metadata": {
    "collapsed": false,
    "pycharm": {
     "name": "#%% read in the data\n"
    }
   }
  },
  {
   "cell_type": "code",
   "execution_count": null,
   "outputs": [],
   "source": [
    "# bingo_cards = pd.DataFrame({'bingo_card': [\"22 13 17 11  0\",\n",
    "#                                            \" 8  2 23  4 24\",\n",
    "#                                            \"21  9 14 16  7\",\n",
    "#                                            \" 6 10  3 18  5\",\n",
    "#                                            \" 1 12 20 15 19\",\n",
    "#                                            \" 3 15  0  2 22\",\n",
    "#                                            \" 9 18 13 17  5\",\n",
    "#                                            \"19  8  7 25 23\",\n",
    "#                                            \"20 11 10 24  4\",\n",
    "#                                            \"14 21 16 12  6\",\n",
    "#                                            \"14 21 17 24  4\",\n",
    "#                                            \"10 16 15  9 19\",\n",
    "#                                            \"18  8 23 26 20\",\n",
    "#                                            \"22 11 13  6  5\",\n",
    "#                                            \" 2  0 12  3  7\"]},\n",
    "#                            columns=['bingo_card'])\n",
    "\n",
    "# num_called = pd.Series([7, 4, 9, 5, 11, 17, 23, 2, 0, 14, 21, 24, 10, 16, 13, 6, 15, 25, 12, 22, 18, 20, 8, 19, 3, 26, 1])"
   ],
   "metadata": {
    "collapsed": false,
    "pycharm": {
     "name": "#%%Sample data\n"
    }
   }
  },
  {
   "cell_type": "code",
   "execution_count": 186,
   "outputs": [
    {
     "name": "stdout",
     "output_type": "stream",
     "text": [
      "    a   b   c   d   e\n",
      "0  57  80  91  40  12\n",
      "1  62  36  72   0  20\n",
      "2  55  60  25  92  96\n",
      "3  14   2  17  18  86\n",
      "4   1   4  90  66  38\n"
     ]
    }
   ],
   "source": [
    "## remove leading space when row starts with single digit value\n",
    "bingo_cards['bingo_card'] = bingo_cards['bingo_card'].str.lstrip(' ')\n",
    "\n",
    "##turn double space into single when it's a single digit number\n",
    "bingo_cards = bingo_cards.replace('  ', ' ', regex=True)\n",
    "## split into columns\n",
    "bingo_cards[['a', 'b', 'c', 'd', 'e']] = bingo_cards['bingo_card'].str.split(' ', 5, expand=True)\n",
    "bingo_cards = bingo_cards.drop('bingo_card', axis=1)\n",
    "\n",
    "##convert the values to integers (they were strings/objects)\n",
    "bingo_cards = bingo_cards.astype(str).astype(int)\n",
    "print(bingo_cards.head())"
   ],
   "metadata": {
    "collapsed": false,
    "pycharm": {
     "name": "#%% Clean input data\n"
    }
   }
  },
  {
   "cell_type": "code",
   "execution_count": 187,
   "outputs": [
    {
     "name": "stdout",
     "output_type": "stream",
     "text": [
      "    a   b   c   d   e\n",
      "0  57  80  91  40  12\n",
      "1  62  36  72   0  20\n",
      "2  55  60  25  92  96\n",
      "3  14   2  17  18  86\n",
      "4   1   4  90  66  38\n",
      "there are  100 cards.\n"
     ]
    }
   ],
   "source": [
    "num_cards = len(bingo_cards)/5 #num of cards in df\n",
    "cards = np.array_split(bingo_cards, num_cards)\n",
    "print(cards[0])\n",
    "print(\"there are \", len(cards), \"cards.\")"
   ],
   "metadata": {
    "collapsed": false,
    "pycharm": {
     "name": "#%% Split into cards\n"
    }
   }
  },
  {
   "cell_type": "markdown",
   "source": [
    "Task 1 - Which bingo card will win first\n",
    "Task 2 - Find the card that will win last\n"
   ],
   "metadata": {
    "collapsed": false
   }
  },
  {
   "cell_type": "code",
   "execution_count": 188,
   "outputs": [],
   "source": [
    "#remove the number called from every card\n",
    "def remove_num_called(cards, num):\n",
    "    for i in range(len(cards)):\n",
    "        cards[i] = cards[i].replace(num, np.NAN)\n",
    "\n",
    "## find any cards that hit bingo\n",
    "def find_bingo_cards(cards,num):\n",
    "    for i in range(len(cards)):\n",
    "        if cards[i].isnull().apply(lambda x: all(x), axis=1).any()  or cards[i].isnull().apply(lambda x: all(x), axis=0).any():\n",
    "            if i+1 not in completed_card_list:\n",
    "                bingo_cards_completed.append(cards[i])\n",
    "                completed_card_list.append(i+1)\n",
    "                bingo_number.append(num)\n",
    "\n",
    "\n",
    "    return bingo_cards_completed,completed_card_list,bingo_number"
   ],
   "metadata": {
    "collapsed": false,
    "pycharm": {
     "name": "#%% Set functions\n"
    }
   }
  },
  {
   "cell_type": "code",
   "execution_count": 189,
   "outputs": [],
   "source": [
    "bingo_cards_completed = []\n",
    "completed_card_list = []\n",
    "bingo_number = []\n",
    "\n",
    "for num in num_called:\n",
    "    remove_num_called(cards, num)\n",
    "    find_bingo_cards(cards,num)\n",
    "\n",
    "### replace all the NAN with 0 so score can be found\n",
    "for i in range(len(bingo_cards_completed)):\n",
    "    bingo_cards_completed[i] = bingo_cards_completed[i].replace(np.NAN, 0)"
   ],
   "metadata": {
    "collapsed": false,
    "pycharm": {
     "name": "#%% find when each card hits bingo\n"
    }
   }
  },
  {
   "cell_type": "code",
   "execution_count": 190,
   "outputs": [
    {
     "name": "stdout",
     "output_type": "stream",
     "text": [
      "winning card =          a     b     c     d     e\n",
      "375  16.0  62.0   3.0  75.0  84.0\n",
      "376  54.0  10.0   1.0   2.0  44.0\n",
      "377  21.0  42.0   0.0   0.0  64.0\n",
      "378  91.0  45.0  67.0  34.0   0.0\n",
      "379   0.0   0.0   0.0   0.0   0.0\n",
      "winning board number =  76\n",
      "card total =  715.0\n",
      "winning number called =  78\n",
      "board score =  55770.0\n"
     ]
    }
   ],
   "source": [
    "print(\"winning card = \", bingo_cards_completed[0])\n",
    "print(\"winning board number = \",completed_card_list[0])\n",
    "print(\"card total = \", bingo_cards_completed[0].values.sum())\n",
    "print(\"winning number called = \",bingo_number[0] )\n",
    "print(\"board score = \", bingo_cards_completed[0].values.sum()*bingo_number[0])\n"
   ],
   "metadata": {
    "collapsed": false,
    "pycharm": {
     "name": "#%% Check winning score\n"
    }
   }
  },
  {
   "cell_type": "code",
   "execution_count": 191,
   "outputs": [
    {
     "name": "stdout",
     "output_type": "stream",
     "text": [
      "winning card =          a     b     c     d     e\n",
      "220   0.0   0.0   9.0   0.0  70.0\n",
      "221  41.0   0.0  90.0   0.0   0.0\n",
      "222   0.0   0.0   0.0   0.0   0.0\n",
      "223   8.0  46.0   0.0  29.0   5.0\n",
      "224   0.0   0.0   0.0   0.0   0.0\n",
      "winning board number =  45\n",
      "card total =  298.0\n",
      "winning number called =  10\n",
      "board score =  2980.0\n"
     ]
    }
   ],
   "source": [
    "print(\"winning card = \", bingo_cards_completed[-1])\n",
    "print(\"winning board number = \",completed_card_list[-1])\n",
    "print(\"card total = \", bingo_cards_completed[-1].values.sum())\n",
    "print(\"winning number called = \",bingo_number[-1] )\n",
    "print(\"board score = \", bingo_cards_completed[-1].values.sum()*bingo_number[-1])"
   ],
   "metadata": {
    "collapsed": false,
    "pycharm": {
     "name": "#%% Check losing score\n"
    }
   }
  },
  {
   "cell_type": "code",
   "execution_count": 192,
   "outputs": [
    {
     "name": "stdout",
     "output_type": "stream",
     "text": [
      "[76, 83, 47, 50, 89, 29, 20, 60, 88, 46, 84, 5, 22, 57, 44, 9, 18, 21, 52, 56, 64, 41, 30, 49, 59, 33, 1, 62, 2, 48, 81, 7, 38, 68, 74, 39, 8, 75, 94, 99, 6, 43, 87, 96, 24, 86, 11, 13, 73, 85, 93, 36, 65, 70, 31, 40, 19, 78, 97, 10, 28, 98, 27, 37, 69, 23, 54, 82, 12, 55, 90, 95, 3, 34, 35, 42, 51, 53, 72, 80, 91, 16, 63, 15, 32, 92, 66, 77, 79, 4, 17, 26, 71, 67, 14, 61, 25, 58, 100, 45]\n"
     ]
    }
   ],
   "source": [
    "\n",
    "print(completed_card_list)"
   ],
   "metadata": {
    "collapsed": false,
    "pycharm": {
     "name": "#%%\n"
    }
   }
  },
  {
   "cell_type": "code",
   "execution_count": null,
   "outputs": [],
   "source": [],
   "metadata": {
    "collapsed": false,
    "pycharm": {
     "name": "#%%\n"
    }
   }
  }
 ],
 "metadata": {
  "kernelspec": {
   "display_name": "Python 3",
   "language": "python",
   "name": "python3"
  },
  "language_info": {
   "codemirror_mode": {
    "name": "ipython",
    "version": 2
   },
   "file_extension": ".py",
   "mimetype": "text/x-python",
   "name": "python",
   "nbconvert_exporter": "python",
   "pygments_lexer": "ipython2",
   "version": "2.7.6"
  }
 },
 "nbformat": 4,
 "nbformat_minor": 0
}