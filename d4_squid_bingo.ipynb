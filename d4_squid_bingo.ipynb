{
 "cells": [
  {
   "cell_type": "code",
   "execution_count": 1,
   "metadata": {
    "collapsed": true,
    "pycharm": {
     "name": "#%% You're playing bingo with a giant squid.\n"
    }
   },
   "outputs": [],
   "source": [
    "import pandas as pd\n",
    "import numpy as np\n",
    "\n"
   ]
  },
  {
   "cell_type": "code",
   "execution_count": 108,
   "outputs": [
    {
     "name": "stdout",
     "output_type": "stream",
     "text": [
      "<class 'pandas.core.series.Series'>\n",
      "0    17\n",
      "1    11\n",
      "2    37\n",
      "3     7\n",
      "4    89\n",
      "Name: num_called, dtype: int64\n",
      "       bingo_card\n",
      "0  57 80 91 40 12\n",
      "1  62 36 72  0 20\n",
      "2  55 60 25 92 96\n",
      "3  14  2 17 18 86\n",
      "4   1  4 90 66 38\n"
     ]
    }
   ],
   "source": [
    "num_called = pd.read_csv('d4_squid_bingo_num_called.csv').squeeze()\n",
    "print(type(num_called))\n",
    "##use sample data for now\n",
    "# num_called = pd.Series([7, 4, 9, 5, 11, 17, 23, 2, 0, 14, 21, 24, 10, 16, 13, 6, 15, 25, 12, 22, 18, 20, 8, 19, 3, 26, 1])\n",
    "print(num_called.head())\n",
    "\n",
    "bingo_cards = pd.read_csv(\"d4_squid_bingo_cards.csv\")\n",
    "##use sample data for now\n",
    "# bingo_cards = pd.DataFrame({'bingo_card': [\"22 13 17 11  0\",\n",
    "#                                            \" 8  2 23  4 24\",\n",
    "#                                            \"21  9 14 16  7\",\n",
    "#                                            \" 6 10  3 18  5\",\n",
    "#                                            \" 1 12 20 15 19\",\n",
    "#                                            \" 3 15  0  2 22\",\n",
    "#                                            \" 9 18 13 17  5\",\n",
    "#                                            \"19  8  7 25 23\",\n",
    "#                                            \"20 11 10 24  4\",\n",
    "#                                            \"14 21 16 12  6\",\n",
    "#                                            \"14 21 17 24  4\",\n",
    "#                                            \"10 16 15  9 19\",\n",
    "#                                            \"18  8 23 26 20\",\n",
    "#                                            \"22 11 13  6  5\",\n",
    "#                                            \" 2  0 12  3  7\"]},\n",
    "#                            columns=['bingo_card'])\n",
    "\n",
    "print(bingo_cards.head())\n"
   ],
   "metadata": {
    "collapsed": false,
    "pycharm": {
     "name": "#%% read in the data\n"
    }
   }
  },
  {
   "cell_type": "code",
   "execution_count": 109,
   "outputs": [
    {
     "name": "stdout",
     "output_type": "stream",
     "text": [
      "    a   b   c   d   e\n",
      "0  57  80  91  40  12\n",
      "1  62  36  72   0  20\n",
      "2  55  60  25  92  96\n",
      "3  14   2  17  18  86\n",
      "4   1   4  90  66  38\n"
     ]
    }
   ],
   "source": [
    "## remove leading space when row starts with single digit value\n",
    "bingo_cards['bingo_card'] = bingo_cards['bingo_card'].str.lstrip(' ')\n",
    "\n",
    "##turn double space into single when it's a single digit number\n",
    "bingo_cards = bingo_cards.replace('  ', ' ', regex=True)\n",
    "## split into columns\n",
    "bingo_cards[['a', 'b', 'c', 'd', 'e']] = bingo_cards['bingo_card'].str.split(' ', 5, expand=True)\n",
    "bingo_cards = bingo_cards.drop('bingo_card', axis=1)\n",
    "\n",
    "##convert the values to integers (they were strings/objects)\n",
    "bingo_cards = bingo_cards.astype(str).astype(int)\n",
    "print(bingo_cards.head())"
   ],
   "metadata": {
    "collapsed": false,
    "pycharm": {
     "name": "#%% Clean input data\n"
    }
   }
  },
  {
   "cell_type": "code",
   "execution_count": 110,
   "outputs": [
    {
     "name": "stdout",
     "output_type": "stream",
     "text": [
      "    a   b   c   d   e\n",
      "0  57  80  91  40  12\n",
      "1  62  36  72   0  20\n",
      "2  55  60  25  92  96\n",
      "3  14   2  17  18  86\n",
      "4   1   4  90  66  38\n",
      "there are  100 cards.\n"
     ]
    }
   ],
   "source": [
    "num_cards = len(bingo_cards)/5 #num of cards in df\n",
    "cards = np.array_split(bingo_cards, num_cards)\n",
    "print(cards[0])\n",
    "print(\"there are \", len(cards), \"cards.\")"
   ],
   "metadata": {
    "collapsed": false,
    "pycharm": {
     "name": "#%% Split into cards\n"
    }
   }
  },
  {
   "cell_type": "markdown",
   "source": [
    "Task 1 - Which bingo card will win first\n",
    "Task 2 - Find the card that will win last\n"
   ],
   "metadata": {
    "collapsed": false
   }
  },
  {
   "cell_type": "code",
   "execution_count": 96,
   "outputs": [],
   "source": [
    "#remove the number called from every card\n",
    "def remove_num_called(cards, num):\n",
    "    for i in range(len(cards)):\n",
    "        cards[i] = cards[i].replace(num, 0)\n",
    "\n",
    "## find any cards that hit bingo\n",
    "def find_bingo_cards(cards,num):\n",
    "    for i in range(len(cards)):\n",
    "        if 0 in cards[i].sum(axis=0).values or 0 in cards[i].sum(axis=1).values:\n",
    "            if i+1 not in completed_card_list:\n",
    "                bingo_cards_completed.append(cards[i])\n",
    "                completed_card_list.append(i+1)\n",
    "                bingo_number.append(num)\n",
    "\n",
    "\n",
    "    return bingo_cards_completed,completed_card_list,bingo_number\n"
   ],
   "metadata": {
    "collapsed": false,
    "pycharm": {
     "name": "#%% Set functions\n"
    }
   }
  },
  {
   "cell_type": "code",
   "execution_count": 111,
   "outputs": [],
   "source": [
    "bingo_cards_completed = []\n",
    "completed_card_list = []\n",
    "bingo_number = []\n",
    "\n",
    "for num in num_called:\n",
    "    remove_num_called(cards, num)\n",
    "    find_bingo_cards(cards,num)\n",
    "\n"
   ],
   "metadata": {
    "collapsed": false,
    "pycharm": {
     "name": "#%% find when each card hits bingo\n"
    }
   }
  },
  {
   "cell_type": "code",
   "execution_count": 78,
   "outputs": [
    {
     "name": "stdout",
     "output_type": "stream",
     "text": [
      "winning card =        a   b   c   d   e\n",
      "375  16  62   3  75  84\n",
      "376  54  10   1   2  44\n",
      "377  21  42   0   0  64\n",
      "378  91  45  67  34   0\n",
      "379   0   0   0   0   0\n",
      "winning board number =  76\n",
      "card total =  715\n",
      "winning number called =  78\n",
      "board score =  55770\n"
     ]
    }
   ],
   "source": [
    "print(\"winning card = \", bingo_cards_completed[0])\n",
    "print(\"winning board number = \",completed_card_list[0])\n",
    "print(\"card total = \", bingo_cards_completed[0].values.sum())\n",
    "print(\"winning number called = \",bingo_number[0] )\n",
    "print(\"board score = \", bingo_cards_completed[0].values.sum()*bingo_number[0])\n"
   ],
   "metadata": {
    "collapsed": false,
    "pycharm": {
     "name": "#%% Check winning score\n"
    }
   }
  },
  {
   "cell_type": "code",
   "execution_count": 90,
   "outputs": [
    {
     "name": "stdout",
     "output_type": "stream",
     "text": [
      "winning card =       a   b   c   d  e\n",
      "495  0   0   0   0  3\n",
      "496  0   0  50   0  0\n",
      "497  0   0   0  62  0\n",
      "498  0   0   0   0  0\n",
      "499  8  29   0   0  0\n",
      "winning board number =  100\n",
      "card total =  152\n",
      "winning number called =  45\n",
      "board score =  6840\n"
     ]
    }
   ],
   "source": [
    "print(\"winning card = \", bingo_cards_completed[-1])\n",
    "print(\"winning board number = \",completed_card_list[-1])\n",
    "print(\"card total = \", bingo_cards_completed[-1].values.sum())\n",
    "print(\"winning number called = \",bingo_number[-1] )\n",
    "print(\"board score = \", bingo_cards_completed[-1].values.sum()*bingo_number[-1])\n",
    "\n"
   ],
   "metadata": {
    "collapsed": false,
    "pycharm": {
     "name": "#%% Check losing score\n"
    }
   }
  },
  {
   "cell_type": "code",
   "execution_count": 114,
   "outputs": [
    {
     "name": "stdout",
     "output_type": "stream",
     "text": [
      "715 78 76\n",
      "567 2 83\n",
      "719 39 47\n",
      "898 4 50\n",
      "673 4 89\n",
      "827 51 29\n",
      "726 79 84\n",
      "628 15 20\n",
      "589 73 60\n",
      "724 73 88\n",
      "704 22 46\n",
      "624 92 5\n",
      "664 92 22\n",
      "684 92 57\n",
      "698 95 3\n",
      "562 95 34\n",
      "691 95 44\n",
      "576 91 9\n",
      "637 43 10\n",
      "641 43 18\n",
      "683 43 21\n",
      "585 26 52\n",
      "682 26 56\n",
      "553 26 64\n",
      "535 97 41\n",
      "619 36 30\n",
      "499 36 49\n",
      "515 36 59\n",
      "442 34 33\n",
      "575 12 1\n",
      "373 12 62\n",
      "421 86 2\n",
      "455 86 26\n",
      "591 86 87\n",
      "506 52 48\n",
      "579 52 81\n",
      "414 66 7\n",
      "450 66 38\n",
      "722 66 58\n",
      "436 66 68\n",
      "436 94 74\n",
      "546 61 39\n",
      "275 76 8\n",
      "568 76 75\n",
      "497 64 94\n",
      "429 64 99\n",
      "503 77 6\n",
      "512 77 43\n",
      "540 77 96\n",
      "362 85 24\n",
      "393 85 55\n",
      "642 85 86\n",
      "465 98 11\n",
      "359 42 13\n",
      "371 42 73\n",
      "187 42 85\n",
      "210 42 93\n",
      "299 84 36\n",
      "490 84 65\n",
      "366 84 70\n",
      "375 84 79\n",
      "309 63 31\n",
      "319 63 40\n",
      "344 60 19\n",
      "345 60 78\n",
      "451 60 97\n",
      "418 30 12\n",
      "471 65 28\n",
      "284 65 98\n",
      "375 19 27\n",
      "256 19 37\n",
      "273 19 69\n",
      "242 54 23\n",
      "234 54 54\n",
      "243 54 82\n",
      "423 58 90\n",
      "376 58 95\n",
      "452 24 35\n",
      "193 24 42\n",
      "288 24 51\n",
      "352 24 53\n",
      "222 24 72\n",
      "460 24 80\n",
      "377 24 91\n",
      "341 20 16\n",
      "326 20 45\n",
      "294 20 63\n",
      "378 25 15\n",
      "371 25 32\n",
      "300 25 92\n",
      "413 75 66\n",
      "285 75 77\n",
      "375 93 4\n",
      "288 93 17\n",
      "290 16 71\n",
      "195 44 67\n",
      "345 14 14\n",
      "216 14 61\n",
      "240 88 25\n",
      "152 45 100\n"
     ]
    }
   ],
   "source": [
    "for i in range(len(bingo_cards_completed)):\n",
    "    print(bingo_cards_completed[i].values.sum(), bingo_number[i], completed_card_list[i] )\n",
    "    # print(\"Card \",completed_card_list[i] )\n",
    "    # print(\"winning number called = \",bingo_number[i] )\n",
    "    # print(\"board score = \", bingo_cards_completed[i].values.sum()*bingo_number[i])\n",
    "    # print(\"winning card = \", bingo_cards_completed[i])\n"
   ],
   "metadata": {
    "collapsed": false,
    "pycharm": {
     "name": "#%% Which board gives the winning score\n"
    }
   }
  },
  {
   "cell_type": "code",
   "execution_count": 102,
   "outputs": [],
   "source": [],
   "metadata": {
    "collapsed": false,
    "pycharm": {
     "name": "#%%\n"
    }
   }
  },
  {
   "cell_type": "code",
   "execution_count": null,
   "outputs": [],
   "source": [],
   "metadata": {
    "collapsed": false,
    "pycharm": {
     "name": "#%%\n"
    }
   }
  }
 ],
 "metadata": {
  "kernelspec": {
   "display_name": "Python 3",
   "language": "python",
   "name": "python3"
  },
  "language_info": {
   "codemirror_mode": {
    "name": "ipython",
    "version": 2
   },
   "file_extension": ".py",
   "mimetype": "text/x-python",
   "name": "python",
   "nbconvert_exporter": "python",
   "pygments_lexer": "ipython2",
   "version": "2.7.6"
  }
 },
 "nbformat": 4,
 "nbformat_minor": 0
}