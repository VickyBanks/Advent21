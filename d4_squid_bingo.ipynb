{
 "cells": [
  {
   "cell_type": "code",
   "execution_count": 1,
   "metadata": {
    "collapsed": true,
    "pycharm": {
     "name": "#%% You're playing bingo with a giant squid.\n"
    }
   },
   "outputs": [],
   "source": [
    "import pandas as pd\n",
    "import numpy as np\n",
    "\n"
   ]
  },
  {
   "cell_type": "code",
   "execution_count": 33,
   "outputs": [
    {
     "name": "stdout",
     "output_type": "stream",
     "text": [
      "<class 'pandas.core.series.Series'>\n",
      "0    17\n",
      "1    11\n",
      "2    37\n",
      "3     7\n",
      "4    89\n",
      "Name: num_called, dtype: int64\n",
      "       bingo_card\n",
      "0  57 80 91 40 12\n",
      "1  62 36 72  0 20\n",
      "2  55 60 25 92 96\n",
      "3  14  2 17 18 86\n",
      "4   1  4 90 66 38\n"
     ]
    }
   ],
   "source": [
    "num_called = pd.read_csv('d4_squid_bingo_num_called.csv').squeeze()\n",
    "print(type(num_called))\n",
    "##use sample data for now\n",
    "# num_called = pd.Series([7, 4, 9, 5, 11, 17, 23, 2, 0, 14, 21, 24, 10, 16, 13, 6, 15, 25, 12, 22, 18, 20, 8, 19, 3, 26, 1])\n",
    "print(num_called.head())\n",
    "\n",
    "bingo_cards = pd.read_csv(\"d4_squid_bingo_cards.csv\")\n",
    "##use sample data for now\n",
    "# bingo_cards = pd.DataFrame({'bingo_card': [\"22 13 17 11  0\",\n",
    "#                                            \" 8  2 23  4 24\",\n",
    "#                                            \"21  9 14 16  7\",\n",
    "#                                            \" 6 10  3 18  5\",\n",
    "#                                            \" 1 12 20 15 19\",\n",
    "#                                            \" 3 15  0  2 22\",\n",
    "#                                            \" 9 18 13 17  5\",\n",
    "#                                            \"19  8  7 25 23\",\n",
    "#                                            \"20 11 10 24  4\",\n",
    "#                                            \"14 21 16 12  6\",\n",
    "#                                            \"14 21 17 24  4\",\n",
    "#                                            \"10 16 15  9 19\",\n",
    "#                                            \"18  8 23 26 20\",\n",
    "#                                            \"22 11 13  6  5\",\n",
    "#                                            \" 2  0 12  3  7\"]},\n",
    "#                            columns=['bingo_card'])\n",
    "\n",
    "print(bingo_cards.head())\n"
   ],
   "metadata": {
    "collapsed": false,
    "pycharm": {
     "name": "#%% read in the data\n"
    }
   }
  },
  {
   "cell_type": "code",
   "execution_count": 34,
   "outputs": [
    {
     "name": "stdout",
     "output_type": "stream",
     "text": [
      "    a   b   c   d   e\n",
      "0  57  80  91  40  12\n",
      "1  62  36  72   0  20\n",
      "2  55  60  25  92  96\n",
      "3  14   2  17  18  86\n",
      "4   1   4  90  66  38\n"
     ]
    }
   ],
   "source": [
    "## remove leading space when row starts with single digit value\n",
    "bingo_cards['bingo_card'] = bingo_cards['bingo_card'].str.lstrip(' ')\n",
    "\n",
    "##turn double space into single when it's a single digit number\n",
    "bingo_cards = bingo_cards.replace('  ', ' ', regex=True)\n",
    "## split into columns\n",
    "bingo_cards[['a', 'b', 'c', 'd', 'e']] = bingo_cards['bingo_card'].str.split(' ', 5, expand=True)\n",
    "bingo_cards = bingo_cards.drop('bingo_card', axis=1)\n",
    "\n",
    "##convert the values to integers (they were strings/objects)\n",
    "bingo_cards = bingo_cards.astype(str).astype(int)\n",
    "print(bingo_cards.head())"
   ],
   "metadata": {
    "collapsed": false,
    "pycharm": {
     "name": "#%% Clean input data\n"
    }
   }
  },
  {
   "cell_type": "code",
   "execution_count": 35,
   "outputs": [
    {
     "name": "stdout",
     "output_type": "stream",
     "text": [
      "    a   b   c   d   e\n",
      "0  57  80  91  40  12\n",
      "1  62  36  72   0  20\n",
      "2  55  60  25  92  96\n",
      "3  14   2  17  18  86\n",
      "4   1   4  90  66  38\n",
      "there are  100 cards.\n"
     ]
    }
   ],
   "source": [
    "num_cards = len(bingo_cards)/5 #num of cards in df\n",
    "cards = np.array_split(bingo_cards, num_cards)\n",
    "print(cards[0])\n",
    "print(\"there are \", len(cards), \"cards.\")"
   ],
   "metadata": {
    "collapsed": false,
    "pycharm": {
     "name": "#%% Split into cards\n"
    }
   }
  },
  {
   "cell_type": "markdown",
   "source": [
    "Task 1 - which bingo card will win first"
   ],
   "metadata": {
    "collapsed": false
   }
  },
  {
   "cell_type": "code",
   "execution_count": 36,
   "outputs": [],
   "source": [
    "##check for bingo when a whole row or column  = 0\n",
    "def check_bingo(card, card_num, num_called):\n",
    "    if 0 in card.sum(axis= 0).values or 0 in card.sum(axis = 1).values:\n",
    "        print(\"bingo\")\n",
    "        print(\"num called = \", num_called)\n",
    "        print(\"winning card = \" , card_num+1)\n",
    "        print(card)\n",
    "        return True\n",
    "    else:\n",
    "        return False"
   ],
   "metadata": {
    "collapsed": false,
    "pycharm": {
     "name": "#%% Loop over each number called and for each df, if the number is present, replace with 0.\n"
    }
   }
  },
  {
   "cell_type": "code",
   "execution_count": 37,
   "outputs": [],
   "source": [
    "def find_winning_card(num_called, cards):\n",
    "    for num in num_called:\n",
    "        for i in range(len(cards)):\n",
    "            cards[i] = cards[i].replace(num, 0)  ##remove value called by setting to zero\n",
    "            ## check for bingo\n",
    "            if check_bingo(cards[i], i, num):\n",
    "                print(\"num called = \", num)\n",
    "                print(\"card sum = \", cards[i].values.sum())\n",
    "                print(\"winning score = \", cards[i].values.sum()*num )\n",
    "                return"
   ],
   "metadata": {
    "collapsed": false,
    "pycharm": {
     "name": "#%% function to find winning card and the winning score\n"
    }
   }
  },
  {
   "cell_type": "code",
   "execution_count": 38,
   "outputs": [],
   "source": [
    "#find_winning_card(num_called, cards)\n",
    "## winner is card 76 when 78 is called. winning score  = 55770\n",
    "\n"
   ],
   "metadata": {
    "collapsed": false,
    "pycharm": {
     "name": "#%% Call and run function\n"
    }
   }
  },
  {
   "cell_type": "markdown",
   "source": [
    "Task 2 - Find the card that will win last\n",
    "\n"
   ],
   "metadata": {
    "collapsed": false
   }
  },
  {
   "cell_type": "code",
   "execution_count": 39,
   "outputs": [
    {
     "name": "stdout",
     "output_type": "stream",
     "text": [
      "bingo!\n",
      "[     a   b   c   d  e\n",
      "495  0   0   0   0  3\n",
      "496  0   0  50   0  0\n",
      "497  0   0   0  62  0\n",
      "498  0   0   0   0  0\n",
      "499  8  29   0   0  0]\n",
      "num called =  45\n",
      "card sum =  152\n",
      "winning score =  6840\n"
     ]
    }
   ],
   "source": [
    "#remove the number called from every card\n",
    "def remove_num_called(cards, num):\n",
    "    for i in range(len(cards)):\n",
    "        cards[i] = cards[i].replace(num, 0)\n",
    "\n",
    "## find any bingo cards and list their indexes\n",
    "def find_bingo_cards(cards):\n",
    "    for i in range(len(cards)):\n",
    "        if 0 in cards[i].sum(axis=0).values or 0 in cards[i].sum(axis=1).values:\n",
    "            cards_to_remove.append(i)\n",
    "    return cards_to_remove\n",
    "\n",
    "\n",
    "def remove_cards(cards_to_remove, cards):\n",
    "    for index in sorted(cards_to_remove, reverse=True):\n",
    "        del cards[index]\n",
    "\n",
    "for num in num_called:\n",
    "    remove_num_called(cards, num)\n",
    "    cards_to_remove = []\n",
    "    find_bingo_cards(cards)\n",
    "\n",
    "    if len(cards) > 1 and cards_to_remove:\n",
    "        remove_cards(cards_to_remove, cards)\n",
    "    elif len(cards) == 1 and cards_to_remove:\n",
    "        print('bingo!')\n",
    "        print(cards)\n",
    "        print(\"num called = \", num)\n",
    "        print(\"card sum = \", cards[0].values.sum())\n",
    "        print(\"winning score = \", cards[0].values.sum()*num )\n",
    "        break\n",
    "\n",
    "\n",
    "\n"
   ],
   "metadata": {
    "collapsed": false,
    "pycharm": {
     "name": "#%% Set functions\n"
    }
   }
  },
  {
   "cell_type": "code",
   "execution_count": null,
   "outputs": [],
   "source": [],
   "metadata": {
    "collapsed": false,
    "pycharm": {
     "name": "#%%\n"
    }
   }
  }
 ],
 "metadata": {
  "kernelspec": {
   "display_name": "Python 3",
   "language": "python",
   "name": "python3"
  },
  "language_info": {
   "codemirror_mode": {
    "name": "ipython",
    "version": 2
   },
   "file_extension": ".py",
   "mimetype": "text/x-python",
   "name": "python",
   "nbconvert_exporter": "python",
   "pygments_lexer": "ipython2",
   "version": "2.7.6"
  }
 },
 "nbformat": 4,
 "nbformat_minor": 0
}