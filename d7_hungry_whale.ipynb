{
 "cells": [
  {
   "cell_type": "code",
   "execution_count": 41,
   "outputs": [],
   "source": [
    "## task 1 - each 1 move used 1 unit of fuel\n",
    "## task 2 - each move uses one more until of fuel than the last. So moving two places uses 1+2 units = 3 units.\n",
    "\n",
    "import pandas as pd\n",
    "import numpy as np"
   ],
   "metadata": {
    "collapsed": false,
    "pycharm": {
     "name": "#%%# d6 Find the position which the crabs should align that requires the least fuel for them to all move to that position\n"
    }
   }
  },
  {
   "cell_type": "code",
   "execution_count": 48,
   "outputs": [
    {
     "data": {
      "text/plain": "   position\n0      1101\n1         1\n2        29\n3        67\n4      1102",
      "text/html": "<div>\n<style scoped>\n    .dataframe tbody tr th:only-of-type {\n        vertical-align: middle;\n    }\n\n    .dataframe tbody tr th {\n        vertical-align: top;\n    }\n\n    .dataframe thead th {\n        text-align: right;\n    }\n</style>\n<table border=\"1\" class=\"dataframe\">\n  <thead>\n    <tr style=\"text-align: right;\">\n      <th></th>\n      <th>position</th>\n    </tr>\n  </thead>\n  <tbody>\n    <tr>\n      <th>0</th>\n      <td>1101</td>\n    </tr>\n    <tr>\n      <th>1</th>\n      <td>1</td>\n    </tr>\n    <tr>\n      <th>2</th>\n      <td>29</td>\n    </tr>\n    <tr>\n      <th>3</th>\n      <td>67</td>\n    </tr>\n    <tr>\n      <th>4</th>\n      <td>1102</td>\n    </tr>\n  </tbody>\n</table>\n</div>"
     },
     "execution_count": 48,
     "metadata": {},
     "output_type": "execute_result"
    }
   ],
   "source": [
    "crabs = pd.read_csv(\"d7_hungry_whale.csv\")\n",
    "\n",
    "### test_data\n",
    "# crabs = pd.DataFrame({'position': [16,1,2,0,4,2,7,1,2,14]},\n",
    "#                             columns=['position'])\n",
    "crabs.head()"
   ],
   "metadata": {
    "collapsed": false,
    "pycharm": {
     "name": "#%% get the initial positions of trhe crabs\n"
    }
   }
  },
  {
   "cell_type": "code",
   "execution_count": 49,
   "outputs": [
    {
     "name": "stdout",
     "output_type": "stream",
     "text": [
      "max pos =  1991\n",
      "min pos =  0\n"
     ]
    }
   ],
   "source": [
    "max_pos = crabs['position'].values.max()\n",
    "min_pos = crabs['position'].values.min()\n",
    "\n",
    "print('max pos = ',max_pos)\n",
    "print('min pos = ',min_pos)\n"
   ],
   "metadata": {
    "collapsed": false,
    "pycharm": {
     "name": "#%% Set up values to be used\n"
    }
   }
  },
  {
   "cell_type": "code",
   "execution_count": 50,
   "outputs": [],
   "source": [
    "position = []\n",
    "fuel = []\n"
   ],
   "metadata": {
    "collapsed": false,
    "pycharm": {
     "name": "#%% set empty df\n"
    }
   }
  },
  {
   "cell_type": "code",
   "execution_count": 51,
   "outputs": [],
   "source": [
    "for align_pos in range(min_pos, max_pos+1):\n",
    "    # print(align_pos)\n",
    "    fuel_total = 0\n",
    "    for crab in range(len(crabs)):\n",
    "        moves = abs(crabs.iloc[crab,0]-align_pos)\n",
    "        # fuel_used = moves ## for part 1\n",
    "        fuel_used = 0.5*(moves*moves + moves) ## for part 2\n",
    "        fuel_total = fuel_total+fuel_used\n",
    "    position.append(align_pos)\n",
    "    fuel.append(fuel_total)"
   ],
   "metadata": {
    "collapsed": false,
    "pycharm": {
     "name": "#%% loop over all positions and see how much fuel is used moving them there\n"
    }
   }
  },
  {
   "cell_type": "code",
   "execution_count": 25,
   "outputs": [
    {
     "data": {
      "text/plain": "   position\n0        16\n1         1\n2         2\n3         0\n4         4\n5         2\n6         7\n7         1\n8         2\n9        14",
      "text/html": "<div>\n<style scoped>\n    .dataframe tbody tr th:only-of-type {\n        vertical-align: middle;\n    }\n\n    .dataframe tbody tr th {\n        vertical-align: top;\n    }\n\n    .dataframe thead th {\n        text-align: right;\n    }\n</style>\n<table border=\"1\" class=\"dataframe\">\n  <thead>\n    <tr style=\"text-align: right;\">\n      <th></th>\n      <th>position</th>\n    </tr>\n  </thead>\n  <tbody>\n    <tr>\n      <th>0</th>\n      <td>16</td>\n    </tr>\n    <tr>\n      <th>1</th>\n      <td>1</td>\n    </tr>\n    <tr>\n      <th>2</th>\n      <td>2</td>\n    </tr>\n    <tr>\n      <th>3</th>\n      <td>0</td>\n    </tr>\n    <tr>\n      <th>4</th>\n      <td>4</td>\n    </tr>\n    <tr>\n      <th>5</th>\n      <td>2</td>\n    </tr>\n    <tr>\n      <th>6</th>\n      <td>7</td>\n    </tr>\n    <tr>\n      <th>7</th>\n      <td>1</td>\n    </tr>\n    <tr>\n      <th>8</th>\n      <td>2</td>\n    </tr>\n    <tr>\n      <th>9</th>\n      <td>14</td>\n    </tr>\n  </tbody>\n</table>\n</div>"
     },
     "execution_count": 25,
     "metadata": {},
     "output_type": "execute_result"
    }
   ],
   "source": [],
   "metadata": {
    "collapsed": false,
    "pycharm": {
     "name": "#%%\n"
    }
   }
  },
  {
   "cell_type": "code",
   "execution_count": 52,
   "outputs": [
    {
     "data": {
      "text/plain": "   position         fuel\n0         0  215663945.0\n1         1  215185352.0\n2         2  214707765.0\n3         3  214231181.0\n4         4  213755601.0",
      "text/html": "<div>\n<style scoped>\n    .dataframe tbody tr th:only-of-type {\n        vertical-align: middle;\n    }\n\n    .dataframe tbody tr th {\n        vertical-align: top;\n    }\n\n    .dataframe thead th {\n        text-align: right;\n    }\n</style>\n<table border=\"1\" class=\"dataframe\">\n  <thead>\n    <tr style=\"text-align: right;\">\n      <th></th>\n      <th>position</th>\n      <th>fuel</th>\n    </tr>\n  </thead>\n  <tbody>\n    <tr>\n      <th>0</th>\n      <td>0</td>\n      <td>215663945.0</td>\n    </tr>\n    <tr>\n      <th>1</th>\n      <td>1</td>\n      <td>215185352.0</td>\n    </tr>\n    <tr>\n      <th>2</th>\n      <td>2</td>\n      <td>214707765.0</td>\n    </tr>\n    <tr>\n      <th>3</th>\n      <td>3</td>\n      <td>214231181.0</td>\n    </tr>\n    <tr>\n      <th>4</th>\n      <td>4</td>\n      <td>213755601.0</td>\n    </tr>\n  </tbody>\n</table>\n</div>"
     },
     "execution_count": 52,
     "metadata": {},
     "output_type": "execute_result"
    }
   ],
   "source": [
    "fuel_total_per_pos = pd.DataFrame(\n",
    "    {'position': position,\n",
    "     'fuel': fuel\n",
    "     }\n",
    ")\n",
    "fuel_total_per_pos.head()"
   ],
   "metadata": {
    "collapsed": false,
    "pycharm": {
     "name": "#%% put the position and fuel used in a df for easy viewing\n"
    }
   }
  },
  {
   "cell_type": "code",
   "execution_count": 53,
   "outputs": [
    {
     "data": {
      "text/plain": "     position         fuel\n478       478  101079875.0",
      "text/html": "<div>\n<style scoped>\n    .dataframe tbody tr th:only-of-type {\n        vertical-align: middle;\n    }\n\n    .dataframe tbody tr th {\n        vertical-align: top;\n    }\n\n    .dataframe thead th {\n        text-align: right;\n    }\n</style>\n<table border=\"1\" class=\"dataframe\">\n  <thead>\n    <tr style=\"text-align: right;\">\n      <th></th>\n      <th>position</th>\n      <th>fuel</th>\n    </tr>\n  </thead>\n  <tbody>\n    <tr>\n      <th>478</th>\n      <td>478</td>\n      <td>101079875.0</td>\n    </tr>\n  </tbody>\n</table>\n</div>"
     },
     "execution_count": 53,
     "metadata": {},
     "output_type": "execute_result"
    }
   ],
   "source": [
    "fuel_total_per_pos[fuel_total_per_pos.fuel == fuel_total_per_pos.fuel.min()]"
   ],
   "metadata": {
    "collapsed": false,
    "pycharm": {
     "name": "#%% what is the min fuel used\n"
    }
   }
  },
  {
   "cell_type": "code",
   "execution_count": null,
   "outputs": [],
   "source": [],
   "metadata": {
    "collapsed": false,
    "pycharm": {
     "name": "#%%\n"
    }
   }
  }
 ],
 "metadata": {
  "kernelspec": {
   "display_name": "Python 3",
   "language": "python",
   "name": "python3"
  },
  "language_info": {
   "codemirror_mode": {
    "name": "ipython",
    "version": 2
   },
   "file_extension": ".py",
   "mimetype": "text/x-python",
   "name": "python",
   "nbconvert_exporter": "python",
   "pygments_lexer": "ipython2",
   "version": "2.7.6"
  },
  "pycharm": {
   "stem_cell": {
    "cell_type": "raw",
    "source": [
     "\n"
    ],
    "metadata": {
     "collapsed": false
    }
   }
  }
 },
 "nbformat": 4,
 "nbformat_minor": 0
}