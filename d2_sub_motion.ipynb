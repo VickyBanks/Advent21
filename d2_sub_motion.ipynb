{
 "cells": [
  {
   "cell_type": "code",
   "execution_count": 1,
   "outputs": [],
   "source": [
    "import pandas as pd\n",
    "import numpy as np"
   ],
   "metadata": {
    "collapsed": false,
    "pycharm": {
     "name": "#%% Advent of code day 2\n"
    }
   }
  },
  {
   "cell_type": "code",
   "execution_count": 68,
   "outputs": [
    {
     "name": "stdout",
     "output_type": "stream",
     "text": [
      "  direction  value\n",
      "0   forward      8\n",
      "1   forward      1\n",
      "2      down      9\n",
      "3      down      8\n",
      "4      down      5\n"
     ]
    }
   ],
   "source": [
    "motion = pd.read_csv('d2_sub_motion.csv')\n",
    "print(motion.head())"
   ],
   "metadata": {
    "collapsed": false,
    "pycharm": {
     "name": "#%% Read in data\n"
    }
   }
  },
  {
   "cell_type": "code",
   "execution_count": 3,
   "outputs": [],
   "source": [
    "horiz = motion[motion['direction'] == 'forward']\n",
    "vert_up = motion[motion['direction'] == 'up']\n",
    "vert_down = motion[motion['direction'] == 'down']"
   ],
   "metadata": {
    "collapsed": false,
    "pycharm": {
     "name": "#%%Task one - find the final position horizontally and vertically\n"
    }
   }
  },
  {
   "cell_type": "code",
   "execution_count": 4,
   "outputs": [
    {
     "data": {
      "text/plain": "direction    forwardforwardforwardforwardforwardforwardforw...\nvalue                                                     2018\ndtype: object"
     },
     "execution_count": 4,
     "metadata": {},
     "output_type": "execute_result"
    }
   ],
   "source": [
    "horiz['value'].sum() ##2018"
   ],
   "metadata": {
    "collapsed": false,
    "pycharm": {
     "name": "#%%\n"
    }
   }
  },
  {
   "cell_type": "code",
   "execution_count": 11,
   "outputs": [
    {
     "name": "stdout",
     "output_type": "stream",
     "text": [
      "820\n"
     ]
    }
   ],
   "source": [
    "down = vert_down['value'].sum()\n",
    "up = vert_up['value'].sum()\n",
    "print(down-up) #820"
   ],
   "metadata": {
    "collapsed": false,
    "pycharm": {
     "name": "#%%\n"
    }
   }
  },
  {
   "cell_type": "code",
   "execution_count": 15,
   "outputs": [
    {
     "data": {
      "text/plain": "1654760"
     },
     "execution_count": 15,
     "metadata": {},
     "output_type": "execute_result"
    }
   ],
   "source": [
    "position = horiz['value'].sum() * (down-up)\n",
    "position #1,654,760"
   ],
   "metadata": {
    "collapsed": false,
    "pycharm": {
     "name": "#%%\n"
    }
   }
  },
  {
   "cell_type": "code",
   "execution_count": 69,
   "outputs": [
    {
     "data": {
      "text/plain": "  direction  value\n0   forward      8\n1   forward      1\n2      down      9\n3      down      8\n4      down      5\n5   forward      4\n6        up     -9\n7   forward      7\n8   forward      2\n9      down      6",
      "text/html": "<div>\n<style scoped>\n    .dataframe tbody tr th:only-of-type {\n        vertical-align: middle;\n    }\n\n    .dataframe tbody tr th {\n        vertical-align: top;\n    }\n\n    .dataframe thead th {\n        text-align: right;\n    }\n</style>\n<table border=\"1\" class=\"dataframe\">\n  <thead>\n    <tr style=\"text-align: right;\">\n      <th></th>\n      <th>direction</th>\n      <th>value</th>\n    </tr>\n  </thead>\n  <tbody>\n    <tr>\n      <th>0</th>\n      <td>forward</td>\n      <td>8</td>\n    </tr>\n    <tr>\n      <th>1</th>\n      <td>forward</td>\n      <td>1</td>\n    </tr>\n    <tr>\n      <th>2</th>\n      <td>down</td>\n      <td>9</td>\n    </tr>\n    <tr>\n      <th>3</th>\n      <td>down</td>\n      <td>8</td>\n    </tr>\n    <tr>\n      <th>4</th>\n      <td>down</td>\n      <td>5</td>\n    </tr>\n    <tr>\n      <th>5</th>\n      <td>forward</td>\n      <td>4</td>\n    </tr>\n    <tr>\n      <th>6</th>\n      <td>up</td>\n      <td>-9</td>\n    </tr>\n    <tr>\n      <th>7</th>\n      <td>forward</td>\n      <td>7</td>\n    </tr>\n    <tr>\n      <th>8</th>\n      <td>forward</td>\n      <td>2</td>\n    </tr>\n    <tr>\n      <th>9</th>\n      <td>down</td>\n      <td>6</td>\n    </tr>\n  </tbody>\n</table>\n</div>"
     },
     "execution_count": 69,
     "metadata": {},
     "output_type": "execute_result"
    }
   ],
   "source": [
    "#forward still moves horizontally but also increases your depth by aim * forward value\n",
    "\n",
    "##change the up values to -ve direction\n",
    "motion['value'] = np.where( motion['direction'] == 'up',\n",
    "                            -motion['value'],\n",
    "                            motion['value']\n",
    "                            )\n",
    "motion.head(n=10)"
   ],
   "metadata": {
    "collapsed": false,
    "pycharm": {
     "name": "#%%Task 2 - find the position given that the meaning of the commands has changed\n"
    }
   }
  },
  {
   "cell_type": "code",
   "execution_count": 70,
   "outputs": [],
   "source": [
    "horiz=list()\n",
    "horiz.append(0)\n",
    "\n",
    "aim=list()\n",
    "aim.append(0)\n",
    "\n",
    "depth=list()\n",
    "depth.append(0)\n"
   ],
   "metadata": {
    "collapsed": false,
    "pycharm": {
     "name": "#%% set up lists for each variable\n"
    }
   }
  },
  {
   "cell_type": "code",
   "execution_count": 71,
   "outputs": [],
   "source": [
    "for row in range(len(motion)):\n",
    "    current_h = horiz[row]\n",
    "    current_a = aim[row]\n",
    "    current_d = depth[row]\n",
    "    if motion['direction'].iloc[[row]].values == 'up' or motion['direction'].iloc[[row]].values == 'down':\n",
    "        horiz.append(current_h)\n",
    "        aim.append(current_a + motion['value'].iloc[[row]].item())\n",
    "        depth.append(current_d)\n",
    "    elif motion['direction'].iloc[[row]].values == 'forward':\n",
    "        added_depth = motion['value'].iloc[[row]].item() * current_a\n",
    "\n",
    "        horiz.append(current_h + motion['value'].iloc[[row]].item())\n",
    "        aim.append(current_a)\n",
    "        depth.append(current_d + added_depth)\n"
   ],
   "metadata": {
    "collapsed": false,
    "pycharm": {
     "name": "#%% Add to the three lists the new value after each command\n"
    }
   }
  },
  {
   "cell_type": "code",
   "execution_count": 72,
   "outputs": [
    {
     "data": {
      "text/plain": "horiz      2018\naim         820\ndepth    969300\nName: 1000, dtype: int64"
     },
     "execution_count": 72,
     "metadata": {},
     "output_type": "execute_result"
    }
   ],
   "source": [
    "position = pd.DataFrame(\n",
    "    {\n",
    "        'horiz': horiz,\n",
    "        \"aim\": aim,\n",
    "        \"depth\": depth\n",
    "    }\n",
    ")\n",
    "position.iloc[-1]"
   ],
   "metadata": {
    "collapsed": false,
    "pycharm": {
     "name": "#%% turn into df to make checking easier\n"
    }
   }
  },
  {
   "cell_type": "code",
   "execution_count": 73,
   "outputs": [
    {
     "name": "stdout",
     "output_type": "stream",
     "text": [
      "horiz =  2018\n",
      "depth =  969300\n",
      "position =  1956047400\n"
     ]
    }
   ],
   "source": [
    "print(\"horiz = \", position['horiz'].iloc[-1])\n",
    "print(\"depth = \", position['depth'].iloc[-1])\n",
    "\n",
    "print(\"position = \", position['horiz'].iloc[-1] * position['depth'].iloc[-1])"
   ],
   "metadata": {
    "collapsed": false,
    "pycharm": {
     "name": "#%% get final position\n"
    }
   }
  },
  {
   "cell_type": "code",
   "execution_count": null,
   "outputs": [],
   "source": [],
   "metadata": {
    "collapsed": false,
    "pycharm": {
     "name": "#%%\n"
    }
   }
  }
 ],
 "metadata": {
  "kernelspec": {
   "display_name": "Python 3",
   "language": "python",
   "name": "python3"
  },
  "language_info": {
   "codemirror_mode": {
    "name": "ipython",
    "version": 2
   },
   "file_extension": ".py",
   "mimetype": "text/x-python",
   "name": "python",
   "nbconvert_exporter": "python",
   "pygments_lexer": "ipython2",
   "version": "2.7.6"
  }
 },
 "nbformat": 4,
 "nbformat_minor": 0
}